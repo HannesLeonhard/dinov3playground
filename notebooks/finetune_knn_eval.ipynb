{
 "cells": [
  {
   "cell_type": "code",
   "execution_count": 1,
   "id": "9f813b8d",
   "metadata": {},
   "outputs": [],
   "source": [
    "# grab directory root\n",
    "import sys\n",
    "sys.path.append(\"../\")"
   ]
  },
  {
   "cell_type": "code",
   "execution_count": 2,
   "id": "da290ce9",
   "metadata": {},
   "outputs": [
    {
     "name": "stderr",
     "output_type": "stream",
     "text": [
      "/home/students/.conda/envs/helmholtz_hannes/lib/python3.10/site-packages/torch/distributed/distributed_c10d.py:4807: UserWarning: No device id is provided via `init_process_group` or `barrier `. Using the current device set by the user. \n",
      "  warnings.warn(  # warn only once\n",
      "[rank0]:[W828 15:37:05.578249094 ProcessGroupNCCL.cpp:5023] [PG ID 0 PG GUID 0 Rank 0]  using GPU 0 as device used by this process is currently unknown. This can potentially cause a hang if this rank to GPU mapping is incorrect. You can specify device_id in init_process_group() to force use of a particular device.\n"
     ]
    }
   ],
   "source": [
    "from dinov3.eval.tSNE import extract_embeddings\n",
    "from dinov3.data.datasets import NCells\n",
    "from dinov3.models.backbone_loader import load_backbone\n",
    "from dinov3.eval.simpleKNN import evaluate_simple_knn\n",
    "import torch\n",
    "import json\n",
    "from torchvision import transforms\n",
    "\n",
    "\n",
    "DEVICE = \"cuda\" if torch.cuda.is_available() else \"cpu\""
   ]
  },
  {
   "cell_type": "code",
   "execution_count": 3,
   "id": "f04e3da1",
   "metadata": {},
   "outputs": [
    {
     "name": "stdout",
     "output_type": "stream",
     "text": [
      "Test Dataset contains 359426 entries\n"
     ]
    }
   ],
   "source": [
    "# defaul transform used in dinov3\n",
    "def make_transform(resize_size: int | list[int] = 768):\n",
    "    to_tensor = transforms.ToTensor()\n",
    "    resize = transforms.Resize((resize_size, resize_size), antialias=True)\n",
    "    normalize = transforms.Normalize(\n",
    "        mean=(0.485, 0.456, 0.406),\n",
    "        std=(0.229, 0.224, 0.225),\n",
    "    )\n",
    "    return transforms.Compose([to_tensor, resize, normalize])\n",
    "\n",
    "test_dataset = NCells(\n",
    "    root=\"/home/students/code/helmholtzSS25/Hannes/dinov3playground/manifest_test_fixed.csv.gz\",\n",
    "    split=NCells.Split.TRAIN,\n",
    "    transform=make_transform(), \n",
    "    target_transform=None,\n",
    ")\n",
    "print(f\"Test Dataset contains {len(test_dataset)} entries\")"
   ]
  },
  {
   "cell_type": "markdown",
   "id": "86acf731",
   "metadata": {},
   "source": [
    "## Baseline kNN Evaluation"
   ]
  },
  {
   "cell_type": "code",
   "execution_count": 9,
   "id": "fe423e66",
   "metadata": {},
   "outputs": [
    {
     "name": "stdout",
     "output_type": "stream",
     "text": [
      "Materializing model parameters on cuda\n",
      "Model loaded on 123750 start iteration\n",
      "Model backbone architecture: \n",
      " DinoVisionTransformer(\n",
      "  (patch_embed): PatchEmbed(\n",
      "    (proj): Conv2d(3, 384, kernel_size=(16, 16), stride=(16, 16))\n",
      "    (norm): Identity()\n",
      "  )\n",
      "  (rope_embed): RopePositionEmbedding()\n",
      "  (blocks): ModuleList(\n",
      "    (0-11): 12 x SelfAttentionBlock(\n",
      "      (norm1): LayerNorm((384,), eps=1e-06, elementwise_affine=True)\n",
      "      (attn): SelfAttention(\n",
      "        (qkv): Linear(in_features=384, out_features=1152, bias=True)\n",
      "        (attn_drop): Dropout(p=0.0, inplace=False)\n",
      "        (proj): Linear(in_features=384, out_features=384, bias=True)\n",
      "        (proj_drop): Dropout(p=0.0, inplace=False)\n",
      "      )\n",
      "      (ls1): LayerScale()\n",
      "      (norm2): LayerNorm((384,), eps=1e-06, elementwise_affine=True)\n",
      "      (mlp): Mlp(\n",
      "        (fc1): Linear(in_features=384, out_features=1536, bias=True)\n",
      "        (act): GELU(approximate='none')\n",
      "        (fc2): Linear(in_features=1536, out_features=384, bias=True)\n",
      "        (drop): Dropout(p=0.0, inplace=False)\n",
      "      )\n",
      "      (ls2): LayerScale()\n",
      "    )\n",
      "  )\n",
      "  (norm): LayerNorm((384,), eps=1e-06, elementwise_affine=True)\n",
      "  (head): Identity()\n",
      ")\n",
      "Starting embedding extraction. Batches: 5617\n"
     ]
    },
    {
     "name": "stderr",
     "output_type": "stream",
     "text": [
      "batches: 100%|██████████| 5617/5617 [12:51<00:00,  7.28it/s]\n"
     ]
    }
   ],
   "source": [
    "model = load_backbone(\n",
    "    config_file=\"/home/students/code/helmholtzSS25/Hannes/dinov3playground/outputs-e80/config.yaml\",\n",
    "    pretrained_weights=\"/home/students/code/helmholtzSS25/Hannes/dinov3playground/outputs-e80/ckpt/123749\",\n",
    "    output_dir=\"/home/students/code/helmholtzSS25/Hannes/dinov3playground/outputs-e80\"\n",
    ")\n",
    "target_size = 224\n",
    "batch_size = 64\n",
    "num_workers = 6\n",
    "embeddings, labels = extract_embeddings(\n",
    "    model=model,\n",
    "    dataset=test_dataset,\n",
    "    device=DEVICE,\n",
    "    batch_size=batch_size,\n",
    "    num_workers=num_workers,\n",
    "    target_size=target_size,\n",
    ")"
   ]
  },
  {
   "cell_type": "code",
   "execution_count": 11,
   "id": "eaaa8837",
   "metadata": {},
   "outputs": [
    {
     "name": "stdout",
     "output_type": "stream",
     "text": [
      "kNN Performance: {\n",
      "    \"1\": {\n",
      "        \"mAP\": 0.522654338451847,\n",
      "        \"precision@k\": 0.4745816941456656,\n",
      "        \"recall@k\": 0.0002209196774884609,\n",
      "        \"topk_acc\": 0.4745816941456656\n",
      "    },\n",
      "    \"5\": {\n",
      "        \"mAP\": 0.522654338451847,\n",
      "        \"precision@k\": 0.45836862107916504,\n",
      "        \"recall@k\": 0.0009804500411107458,\n",
      "        \"topk_acc\": 0.6517335974581694\n",
      "    },\n",
      "    \"10\": {\n",
      "        \"mAP\": 0.522654338451847,\n",
      "        \"precision@k\": 0.45024455659857654,\n",
      "        \"recall@k\": 0.001833994614048822,\n",
      "        \"topk_acc\": 0.7318891788574005\n",
      "    }\n",
      "}\n"
     ]
    }
   ],
   "source": [
    "results = evaluate_simple_knn(embeddings, labels, k_list=[1,5,10], metric='cosine', sample_size=None)\n",
    "print(\"kNN Performance:\", json.dumps(results, sort_keys=True, indent=4))"
   ]
  },
  {
   "cell_type": "markdown",
   "id": "3ef975e4",
   "metadata": {},
   "source": [
    "## DBScan (Single Cluster) Finetune Eval"
   ]
  },
  {
   "cell_type": "code",
   "execution_count": 4,
   "id": "ed9d929f",
   "metadata": {},
   "outputs": [
    {
     "name": "stdout",
     "output_type": "stream",
     "text": [
      "Materializing model parameters on cuda\n",
      "Model loaded on 22500 start iteration\n",
      "Model backbone architecture: \n",
      " DinoVisionTransformer(\n",
      "  (patch_embed): PatchEmbed(\n",
      "    (proj): Conv2d(3, 384, kernel_size=(16, 16), stride=(16, 16))\n",
      "    (norm): Identity()\n",
      "  )\n",
      "  (rope_embed): RopePositionEmbedding()\n",
      "  (blocks): ModuleList(\n",
      "    (0-11): 12 x SelfAttentionBlock(\n",
      "      (norm1): LayerNorm((384,), eps=1e-06, elementwise_affine=True)\n",
      "      (attn): SelfAttention(\n",
      "        (qkv): Linear(in_features=384, out_features=1152, bias=True)\n",
      "        (attn_drop): Dropout(p=0.0, inplace=False)\n",
      "        (proj): Linear(in_features=384, out_features=384, bias=True)\n",
      "        (proj_drop): Dropout(p=0.0, inplace=False)\n",
      "      )\n",
      "      (ls1): LayerScale()\n",
      "      (norm2): LayerNorm((384,), eps=1e-06, elementwise_affine=True)\n",
      "      (mlp): Mlp(\n",
      "        (fc1): Linear(in_features=384, out_features=1536, bias=True)\n",
      "        (act): GELU(approximate='none')\n",
      "        (fc2): Linear(in_features=1536, out_features=384, bias=True)\n",
      "        (drop): Dropout(p=0.0, inplace=False)\n",
      "      )\n",
      "      (ls2): LayerScale()\n",
      "    )\n",
      "  )\n",
      "  (norm): LayerNorm((384,), eps=1e-06, elementwise_affine=True)\n",
      "  (head): Identity()\n",
      ")\n",
      "Starting embedding extraction. Batches: 5617\n"
     ]
    },
    {
     "name": "stderr",
     "output_type": "stream",
     "text": [
      "batches: 100%|██████████| 5617/5617 [09:46<00:00,  9.58it/s]\n"
     ]
    }
   ],
   "source": [
    "model = load_backbone(\n",
    "    config_file=\"/home/students/code/helmholtzSS25/Hannes/dinov3playground/outputs-finetune-dbscan/config.yaml\",\n",
    "    pretrained_weights=\"/home/students/code/helmholtzSS25/Hannes/dinov3playground/outputs-finetune-dbscan/ckpt/22499\",\n",
    "    output_dir=\"/home/students/code/helmholtzSS25/Hannes/dinov3playground/outputs-finetune-dbscan\"\n",
    ")\n",
    "target_size = 224\n",
    "batch_size = 64\n",
    "num_workers = 6\n",
    "embeddings, labels = extract_embeddings(\n",
    "    model=model,\n",
    "    dataset=test_dataset,\n",
    "    device=DEVICE,\n",
    "    batch_size=batch_size,\n",
    "    num_workers=num_workers,\n",
    "    target_size=target_size,\n",
    ")"
   ]
  },
  {
   "cell_type": "code",
   "execution_count": 5,
   "id": "1f8a8bbf",
   "metadata": {},
   "outputs": [
    {
     "name": "stdout",
     "output_type": "stream",
     "text": [
      "kNN Performance: {\n",
      "    \"1\": {\n",
      "        \"mAP\": 0.5959169510237845,\n",
      "        \"precision@k\": 0.5472559024667109,\n",
      "        \"recall@k\": 0.000223021184014311,\n",
      "        \"topk_acc\": 0.5472559024667109\n",
      "    },\n",
      "    \"5\": {\n",
      "        \"mAP\": 0.5959169510237845,\n",
      "        \"precision@k\": 0.5332691569335551,\n",
      "        \"recall@k\": 0.0010033149822359709,\n",
      "        \"topk_acc\": 0.723314395730971\n",
      "    },\n",
      "    \"10\": {\n",
      "        \"mAP\": 0.5959169510237845,\n",
      "        \"precision@k\": 0.5245956052149815,\n",
      "        \"recall@k\": 0.0018819778263280305,\n",
      "        \"topk_acc\": 0.8022958828799253\n",
      "    }\n",
      "}\n"
     ]
    }
   ],
   "source": [
    "results = evaluate_simple_knn(embeddings, labels, k_list=[1,5,10], metric='cosine', sample_size=None)\n",
    "print(\"kNN Performance:\", json.dumps(results, sort_keys=True, indent=4))"
   ]
  },
  {
   "cell_type": "markdown",
   "id": "fbab3d9f",
   "metadata": {},
   "source": [
    "## HDBScan Finetune Eval"
   ]
  },
  {
   "cell_type": "code",
   "execution_count": 6,
   "id": "3872cbb8",
   "metadata": {},
   "outputs": [
    {
     "name": "stdout",
     "output_type": "stream",
     "text": [
      "Materializing model parameters on cuda\n",
      "Model loaded on 22500 start iteration\n",
      "Model backbone architecture: \n",
      " DinoVisionTransformer(\n",
      "  (patch_embed): PatchEmbed(\n",
      "    (proj): Conv2d(3, 384, kernel_size=(16, 16), stride=(16, 16))\n",
      "    (norm): Identity()\n",
      "  )\n",
      "  (rope_embed): RopePositionEmbedding()\n",
      "  (blocks): ModuleList(\n",
      "    (0-11): 12 x SelfAttentionBlock(\n",
      "      (norm1): LayerNorm((384,), eps=1e-06, elementwise_affine=True)\n",
      "      (attn): SelfAttention(\n",
      "        (qkv): Linear(in_features=384, out_features=1152, bias=True)\n",
      "        (attn_drop): Dropout(p=0.0, inplace=False)\n",
      "        (proj): Linear(in_features=384, out_features=384, bias=True)\n",
      "        (proj_drop): Dropout(p=0.0, inplace=False)\n",
      "      )\n",
      "      (ls1): LayerScale()\n",
      "      (norm2): LayerNorm((384,), eps=1e-06, elementwise_affine=True)\n",
      "      (mlp): Mlp(\n",
      "        (fc1): Linear(in_features=384, out_features=1536, bias=True)\n",
      "        (act): GELU(approximate='none')\n",
      "        (fc2): Linear(in_features=1536, out_features=384, bias=True)\n",
      "        (drop): Dropout(p=0.0, inplace=False)\n",
      "      )\n",
      "      (ls2): LayerScale()\n",
      "    )\n",
      "  )\n",
      "  (norm): LayerNorm((384,), eps=1e-06, elementwise_affine=True)\n",
      "  (head): Identity()\n",
      ")\n",
      "Starting embedding extraction. Batches: 5617\n"
     ]
    },
    {
     "name": "stderr",
     "output_type": "stream",
     "text": [
      "batches: 100%|██████████| 5617/5617 [06:19<00:00, 14.78it/s]\n"
     ]
    }
   ],
   "source": [
    "model = load_backbone(\n",
    "    config_file=\"/home/students/code/helmholtzSS25/Hannes/dinov3playground/outputs-finetune-hdbscan/config.yaml\",\n",
    "    pretrained_weights=\"/home/students/code/helmholtzSS25/Hannes/dinov3playground/outputs-finetune-hdbscan/ckpt/22499\",\n",
    "    output_dir=\"/home/students/code/helmholtzSS25/Hannes/dinov3playground/outputs-finetune-hdbscan\"\n",
    ")\n",
    "target_size = 224\n",
    "batch_size = 64\n",
    "num_workers = 6\n",
    "embeddings, labels = extract_embeddings(\n",
    "    model=model,\n",
    "    dataset=test_dataset,\n",
    "    device=DEVICE,\n",
    "    batch_size=batch_size,\n",
    "    num_workers=num_workers,\n",
    "    target_size=target_size,\n",
    ")"
   ]
  },
  {
   "cell_type": "code",
   "execution_count": 7,
   "id": "ca24d432",
   "metadata": {},
   "outputs": [
    {
     "name": "stdout",
     "output_type": "stream",
     "text": [
      "kNN Performance: {\n",
      "    \"1\": {\n",
      "        \"mAP\": 0.5820977197181092,\n",
      "        \"precision@k\": 0.5480738733424961,\n",
      "        \"recall@k\": 0.0002242270425645246,\n",
      "        \"topk_acc\": 0.5480738733424961\n",
      "    },\n",
      "    \"5\": {\n",
      "        \"mAP\": 0.5820977197181092,\n",
      "        \"precision@k\": 0.47641906818093294,\n",
      "        \"recall@k\": 0.0010104705236814104,\n",
      "        \"topk_acc\": 0.7893947571961961\n",
      "    },\n",
      "    \"10\": {\n",
      "        \"mAP\": 0.5820977197181092,\n",
      "        \"precision@k\": 0.4962565312470439,\n",
      "        \"recall@k\": 0.0018909567039771136,\n",
      "        \"topk_acc\": 0.8677891972200119\n",
      "    }\n",
      "}\n"
     ]
    }
   ],
   "source": [
    "results = evaluate_simple_knn(embeddings, labels, k_list=[1,5,10], metric='cosine', sample_size=None)\n",
    "print(\"kNN Performance:\", json.dumps(results, sort_keys=True, indent=4))"
   ]
  },
  {
   "cell_type": "markdown",
   "id": "18eb06ce",
   "metadata": {},
   "source": [
    "## HDBScan Eval (with min_smaple=2)"
   ]
  },
  {
   "cell_type": "code",
   "execution_count": 4,
   "id": "4e0eaeeb",
   "metadata": {},
   "outputs": [
    {
     "name": "stdout",
     "output_type": "stream",
     "text": [
      "Materializing model parameters on cuda\n",
      "Model loaded on 22500 start iteration\n",
      "Model backbone architecture: \n",
      " DinoVisionTransformer(\n",
      "  (patch_embed): PatchEmbed(\n",
      "    (proj): Conv2d(3, 384, kernel_size=(16, 16), stride=(16, 16))\n",
      "    (norm): Identity()\n",
      "  )\n",
      "  (rope_embed): RopePositionEmbedding()\n",
      "  (blocks): ModuleList(\n",
      "    (0-11): 12 x SelfAttentionBlock(\n",
      "      (norm1): LayerNorm((384,), eps=1e-06, elementwise_affine=True)\n",
      "      (attn): SelfAttention(\n",
      "        (qkv): Linear(in_features=384, out_features=1152, bias=True)\n",
      "        (attn_drop): Dropout(p=0.0, inplace=False)\n",
      "        (proj): Linear(in_features=384, out_features=384, bias=True)\n",
      "        (proj_drop): Dropout(p=0.0, inplace=False)\n",
      "      )\n",
      "      (ls1): LayerScale()\n",
      "      (norm2): LayerNorm((384,), eps=1e-06, elementwise_affine=True)\n",
      "      (mlp): Mlp(\n",
      "        (fc1): Linear(in_features=384, out_features=1536, bias=True)\n",
      "        (act): GELU(approximate='none')\n",
      "        (fc2): Linear(in_features=1536, out_features=384, bias=True)\n",
      "        (drop): Dropout(p=0.0, inplace=False)\n",
      "      )\n",
      "      (ls2): LayerScale()\n",
      "    )\n",
      "  )\n",
      "  (norm): LayerNorm((384,), eps=1e-06, elementwise_affine=True)\n",
      "  (head): Identity()\n",
      ")\n",
      "Starting embedding extraction. Batches: 5617\n"
     ]
    },
    {
     "name": "stderr",
     "output_type": "stream",
     "text": [
      "batches: 100%|██████████| 5617/5617 [06:27<00:00, 14.50it/s]\n"
     ]
    }
   ],
   "source": [
    "model = load_backbone(\n",
    "    config_file=\"/home/students/code/helmholtzSS25/Hannes/dinov3playground/outputs-finetune-hdbscan2/config.yaml\",\n",
    "    pretrained_weights=\"/home/students/code/helmholtzSS25/Hannes/dinov3playground/outputs-finetune-hdbscan2/ckpt/22499\",\n",
    "    output_dir=\"/home/students/code/helmholtzSS25/Hannes/dinov3playground/outputs-finetune-hdbscan2\"\n",
    ")\n",
    "target_size = 224\n",
    "batch_size = 64\n",
    "num_workers = 6\n",
    "embeddings, labels = extract_embeddings(\n",
    "    model=model,\n",
    "    dataset=test_dataset,\n",
    "    device=DEVICE,\n",
    "    batch_size=batch_size,\n",
    "    num_workers=num_workers,\n",
    "    target_size=target_size,\n",
    ")"
   ]
  },
  {
   "cell_type": "code",
   "execution_count": 5,
   "id": "2290252e",
   "metadata": {},
   "outputs": [
    {
     "name": "stdout",
     "output_type": "stream",
     "text": [
      "kNN Performance: {\n",
      "    \"1\": {\n",
      "        \"mAP\": 0.5937017718030762,\n",
      "        \"precision@k\": 0.5456199607151403,\n",
      "        \"recall@k\": 0.00022136790386864037,\n",
      "        \"topk_acc\": 0.5456199607151403\n",
      "    },\n",
      "    \"5\": {\n",
      "        \"mAP\": 0.5937017718030762,\n",
      "        \"precision@k\": 0.5307351165469387,\n",
      "        \"recall@k\": 0.0009926657076118983,\n",
      "        \"topk_acc\": 0.719992432378292\n",
      "    },\n",
      "    \"10\": {\n",
      "        \"mAP\": 0.5937017718030762,\n",
      "        \"precision@k\": 0.5220740847907497,\n",
      "        \"recall@k\": 0.001857161567762058,\n",
      "        \"topk_acc\": 0.8003483331756746\n",
      "    }\n",
      "}\n"
     ]
    }
   ],
   "source": [
    "results = evaluate_simple_knn(embeddings, labels, k_list=[1,5,10], metric='cosine', sample_size=None)\n",
    "print(\"kNN Performance:\", json.dumps(results, sort_keys=True, indent=4))"
   ]
  },
  {
   "cell_type": "code",
   "execution_count": null,
   "id": "f605ab43",
   "metadata": {},
   "outputs": [],
   "source": []
  }
 ],
 "metadata": {
  "kernelspec": {
   "display_name": "helmholtz_hannes",
   "language": "python",
   "name": "python3"
  },
  "language_info": {
   "codemirror_mode": {
    "name": "ipython",
    "version": 3
   },
   "file_extension": ".py",
   "mimetype": "text/x-python",
   "name": "python",
   "nbconvert_exporter": "python",
   "pygments_lexer": "ipython3",
   "version": "3.10.18"
  }
 },
 "nbformat": 4,
 "nbformat_minor": 5
}
