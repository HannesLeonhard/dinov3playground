{
 "cells": [
  {
   "cell_type": "markdown",
   "id": "56325ecb",
   "metadata": {},
   "source": [
    "Recommendations:\n",
    "- Set your own wandb key as env var\n",
    "- Use conda env 'helmholtz_hannes' (conda activate helmholtz_hannes)\n",
    "- Jobs will get scheduled with slurm; you can inspect the logs in the outputs directory\n",
    "- Use notebooks/finetune_knn_eval.ipynb for reference on knn evaluations"
   ]
  },
  {
   "cell_type": "code",
   "execution_count": null,
   "id": "9de2e184",
   "metadata": {},
   "outputs": [],
   "source": [
    "# Train model from scratch\n",
    "# Either change the dinov3/configs/train/vitl_im1k_lin834.yaml entries or overwrite the entries via command line args\n",
    "# Will safe a checkpoint after 80 epochs and never delete this checkpoint\n",
    "# Will train for 100 epochs\n",
    "PYTHONPATH=${PWD} python -m dinov3.run.submit dinov3/train/train.py \\\n",
    "  --nodes 1 \\\n",
    "  --config-file dinov3/configs/train/vitl_im1k_lin834.yaml \\\n",
    "  --output-dir /home/students/code/helmholtzSS25/Hannes/dinov3playground/outputs-YOUR_OUTPUT_DIR \\\n",
    "  train.dataset_path=NCells:root=/home/students/code/helmholtzSS25/Hannes/dinov3playground/manifest_train_fixed.csv.gz:split=TRAIN \\\n",
    "  finetune.path='' \\\n",
    "  tiplet.enable=true:weight_scaling=global \\\n",
    "  checkpointing.checkpointing_goal_epoch=80\n"
   ]
  },
  {
   "cell_type": "code",
   "execution_count": null,
   "id": "4e3748be",
   "metadata": {},
   "outputs": [],
   "source": [
    "# Finetune model given a previous checkpoint (here after state of 80 epochs)\n",
    "# Will finetune for 20 Epochs\n",
    "PYTHONPATH=${PWD} python -m dinov3.run.submit dinov3/train/train.py \\\n",
    "  --nodes 1 \\\n",
    "  --config-file dinov3/configs/train/vitl_im1k_lin834.yaml \\\n",
    "  --output-dir /home/students/code/helmholtzSS25/Hannes/dinov3playground/outputs-YOUR_OUTPUT_DIR \\\n",
    "  train.dataset_path=NCells:root=/home/students/code/helmholtzSS25/Hannes/dinov3playground/manifest_train_fixed.csv.gz:split=TRAIN \\\n",
    "  finetune.path='/home/students/code/helmholtzSS25/Hannes/dinov3playground/outputs-e80/ckpt/99999_keep':epochs=20 \\\n",
    "  tiplet.enable=true:weight_scaling=global \n"
   ]
  }
 ],
 "metadata": {
  "language_info": {
   "name": "python"
  }
 },
 "nbformat": 4,
 "nbformat_minor": 5
}
